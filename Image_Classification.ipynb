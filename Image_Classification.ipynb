{
  "nbformat": 4,
  "nbformat_minor": 0,
  "metadata": {
    "colab": {
      "name": "Image_Classification.ipynb",
      "provenance": []
    },
    "kernelspec": {
      "name": "python3",
      "display_name": "Python 3"
    },
    "accelerator": "GPU"
  },
  "cells": [
    {
      "cell_type": "markdown",
      "metadata": {
        "id": "kH3Va4a8rSEu",
        "colab_type": "text"
      },
      "source": [
        "# Loading Data"
      ]
    },
    {
      "cell_type": "code",
      "metadata": {
        "id": "soBpXMl5XHq2",
        "colab_type": "code",
        "colab": {
          "base_uri": "https://localhost:8080/",
          "height": 51
        },
        "outputId": "88d5535e-d166-4232-b2c0-7fe65f941fe1"
      },
      "source": [
        "from keras.datasets import cifar10\n",
        "(x_train, y_train), (x_test,y_test) = cifar10.load_data()"
      ],
      "execution_count": 5,
      "outputs": [
        {
          "output_type": "stream",
          "text": [
            "Downloading data from https://www.cs.toronto.edu/~kriz/cifar-10-python.tar.gz\n",
            "170500096/170498071 [==============================] - 6s 0us/step\n"
          ],
          "name": "stdout"
        }
      ]
    },
    {
      "cell_type": "markdown",
      "metadata": {
        "id": "I54i1jb0rZ_I",
        "colab_type": "text"
      },
      "source": [
        "# Preprocessing Data"
      ]
    },
    {
      "cell_type": "code",
      "metadata": {
        "id": "FsrqbE7pXUDv",
        "colab_type": "code",
        "colab": {
          "base_uri": "https://localhost:8080/",
          "height": 850
        },
        "outputId": "508e2e5d-aeec-48ba-9396-30c4beefa723"
      },
      "source": [
        "#visualizing feature(rgb codes)\n",
        "x_train[0]"
      ],
      "execution_count": 6,
      "outputs": [
        {
          "output_type": "execute_result",
          "data": {
            "text/plain": [
              "array([[[ 59,  62,  63],\n",
              "        [ 43,  46,  45],\n",
              "        [ 50,  48,  43],\n",
              "        ...,\n",
              "        [158, 132, 108],\n",
              "        [152, 125, 102],\n",
              "        [148, 124, 103]],\n",
              "\n",
              "       [[ 16,  20,  20],\n",
              "        [  0,   0,   0],\n",
              "        [ 18,   8,   0],\n",
              "        ...,\n",
              "        [123,  88,  55],\n",
              "        [119,  83,  50],\n",
              "        [122,  87,  57]],\n",
              "\n",
              "       [[ 25,  24,  21],\n",
              "        [ 16,   7,   0],\n",
              "        [ 49,  27,   8],\n",
              "        ...,\n",
              "        [118,  84,  50],\n",
              "        [120,  84,  50],\n",
              "        [109,  73,  42]],\n",
              "\n",
              "       ...,\n",
              "\n",
              "       [[208, 170,  96],\n",
              "        [201, 153,  34],\n",
              "        [198, 161,  26],\n",
              "        ...,\n",
              "        [160, 133,  70],\n",
              "        [ 56,  31,   7],\n",
              "        [ 53,  34,  20]],\n",
              "\n",
              "       [[180, 139,  96],\n",
              "        [173, 123,  42],\n",
              "        [186, 144,  30],\n",
              "        ...,\n",
              "        [184, 148,  94],\n",
              "        [ 97,  62,  34],\n",
              "        [ 83,  53,  34]],\n",
              "\n",
              "       [[177, 144, 116],\n",
              "        [168, 129,  94],\n",
              "        [179, 142,  87],\n",
              "        ...,\n",
              "        [216, 184, 140],\n",
              "        [151, 118,  84],\n",
              "        [123,  92,  72]]], dtype=uint8)"
            ]
          },
          "metadata": {
            "tags": []
          },
          "execution_count": 6
        }
      ]
    },
    {
      "cell_type": "code",
      "metadata": {
        "id": "0ZpMmfmhXliX",
        "colab_type": "code",
        "colab": {
          "base_uri": "https://localhost:8080/",
          "height": 266
        },
        "outputId": "436704e9-7831-4fc6-87a5-3853d9367313"
      },
      "source": [
        "#visualizing first image\n",
        "import matplotlib.pyplot as plt\n",
        "img = plt.imshow(x_train[0])"
      ],
      "execution_count": 7,
      "outputs": [
        {
          "output_type": "display_data",
          "data": {
            "image/png": "[encoded data removed]",
            "text/plain": [
              "<Figure size 432x288 with 1 Axes>"
            ]
          },
          "metadata": {
            "tags": [],
            "needs_background": "light"
          }
        }
      ]
    },
    {
      "cell_type": "code",
      "metadata": {
        "id": "JticI4KCX6S_",
        "colab_type": "code",
        "colab": {
          "base_uri": "https://localhost:8080/",
          "height": 34
        },
        "outputId": "6d964ec9-7b42-4849-f8c0-4f3198d11b2c"
      },
      "source": [
        "#visualizing label\n",
        "print(y_train[0])"
      ],
      "execution_count": 5,
      "outputs": [
        {
          "output_type": "stream",
          "text": [
            "[6]\n"
          ],
          "name": "stdout"
        }
      ]
    },
    {
      "cell_type": "code",
      "metadata": {
        "id": "0bzpN0KpX-x2",
        "colab_type": "code",
        "colab": {
          "base_uri": "https://localhost:8080/",
          "height": 34
        },
        "outputId": "de9f953a-6ce2-4a06-d5a8-3f09dfcd896c"
      },
      "source": [
        "#one hot encoding label\n",
        "from keras.utils import to_categorical\n",
        "y_train_one_hot = to_categorical(y_train)\n",
        "y_test_one_hot = to_categorical(y_test)\n",
        "\n",
        "print(y_train_one_hot[0])"
      ],
      "execution_count": 8,
      "outputs": [
        {
          "output_type": "stream",
          "text": [
            "[0. 0. 0. 0. 0. 0. 1. 0. 0. 0.]\n"
          ],
          "name": "stdout"
        }
      ]
    },
    {
      "cell_type": "code",
      "metadata": {
        "id": "357fVF68YYv2",
        "colab_type": "code",
        "colab": {}
      },
      "source": [
        "#changing data from pixel value to 0,1 interval\n",
        "x_train = x_train/255\n",
        "x_test = x_test/255"
      ],
      "execution_count": 0,
      "outputs": []
    },
    {
      "cell_type": "markdown",
      "metadata": {
        "id": "0Loc4O70r9K6",
        "colab_type": "text"
      },
      "source": [
        "# First Model"
      ]
    },
    {
      "cell_type": "code",
      "metadata": {
        "id": "Sj7mtGl_YwkB",
        "colab_type": "code",
        "colab": {}
      },
      "source": [
        "#Defining First model\n",
        "from keras.models import Sequential\n",
        "from keras.layers import Dense, Flatten, Conv2D, MaxPooling2D\n",
        "\n",
        "model = Sequential()\n",
        "\n",
        "model.add(Conv2D(32, (5, 5), activation='relu', input_shape=(32,32,3)))\n",
        "model.add(MaxPooling2D(pool_size=(2,2)))\n",
        "\n",
        "model.add(Conv2D(32, (5, 5), activation='relu'))\n",
        "model.add(MaxPooling2D(pool_size=(2,2)))\n",
        "\n",
        "model.add(Flatten())\n",
        "\n",
        "model.add(Dense(1024, activation='relu'))\n",
        "model.add(Dense(10, activation='softmax'))\n",
        "\n",
        "# two 2d layers(32 neurons) with pooling, and flattening one fully conected layer(1024) and the output(10)  "
      ],
      "execution_count": 0,
      "outputs": []
    },
    {
      "cell_type": "code",
      "metadata": {
        "id": "PY6GeL2QZ4Lw",
        "colab_type": "code",
        "colab": {}
      },
      "source": [
        "#Compiling the model\n",
        "model.compile(loss='categorical_crossentropy',\n",
        "              optimizer='adam',\n",
        "              metrics=['accuracy'])"
      ],
      "execution_count": 0,
      "outputs": []
    },
    {
      "cell_type": "code",
      "metadata": {
        "id": "G3GZH5FIaGhZ",
        "colab_type": "code",
        "colab": {
          "base_uri": "https://localhost:8080/",
          "height": 374
        },
        "outputId": "a5ad6b65-3164-4d38-d747-117571a23494"
      },
      "source": [
        "#training the model\n",
        "history = model.fit(x_train, y_train_one_hot,\n",
        "                    batch_size=256, epochs=10,\n",
        "                    validation_split=0.3)"
      ],
      "execution_count": 16,
      "outputs": [
        {
          "output_type": "stream",
          "text": [
            "Train on 35000 samples, validate on 15000 samples\n",
            "Epoch 1/10\n",
            "35000/35000 [==============================] - 2s 52us/step - loss: 1.6913 - accuracy: 0.3844 - val_loss: 1.4446 - val_accuracy: 0.4764\n",
            "Epoch 2/10\n",
            "35000/35000 [==============================] - 2s 45us/step - loss: 1.3619 - accuracy: 0.5090 - val_loss: 1.2980 - val_accuracy: 0.5376\n",
            "Epoch 3/10\n",
            "35000/35000 [==============================] - 2s 45us/step - loss: 1.2141 - accuracy: 0.5689 - val_loss: 1.1992 - val_accuracy: 0.5743\n",
            "Epoch 4/10\n",
            "35000/35000 [==============================] - 2s 45us/step - loss: 1.1105 - accuracy: 0.6091 - val_loss: 1.1323 - val_accuracy: 0.6008\n",
            "Epoch 5/10\n",
            "35000/35000 [==============================] - 2s 45us/step - loss: 1.0186 - accuracy: 0.6441 - val_loss: 1.0841 - val_accuracy: 0.6167\n",
            "Epoch 6/10\n",
            "35000/35000 [==============================] - 2s 45us/step - loss: 0.9532 - accuracy: 0.6665 - val_loss: 1.0396 - val_accuracy: 0.6354\n",
            "Epoch 7/10\n",
            "35000/35000 [==============================] - 2s 46us/step - loss: 0.8869 - accuracy: 0.6910 - val_loss: 1.0645 - val_accuracy: 0.6379\n",
            "Epoch 8/10\n",
            "35000/35000 [==============================] - 2s 46us/step - loss: 0.8246 - accuracy: 0.7128 - val_loss: 0.9963 - val_accuracy: 0.6599\n",
            "Epoch 9/10\n",
            "35000/35000 [==============================] - 2s 45us/step - loss: 0.7485 - accuracy: 0.7417 - val_loss: 0.9682 - val_accuracy: 0.6681\n",
            "Epoch 10/10\n",
            "35000/35000 [==============================] - 2s 46us/step - loss: 0.6914 - accuracy: 0.7610 - val_loss: 0.9801 - val_accuracy: 0.6733\n"
          ],
          "name": "stdout"
        }
      ]
    },
    {
      "cell_type": "code",
      "metadata": {
        "id": "49FPekybahOB",
        "colab_type": "code",
        "colab": {
          "base_uri": "https://localhost:8080/",
          "height": 51
        },
        "outputId": "4aebfdcd-23ca-4f03-d946-fa9e5cb0b9ad"
      },
      "source": [
        "#Evaluating it (67% accuracy)\n",
        "model.evaluate(x_test,y_test_one_hot)[1]"
      ],
      "execution_count": 17,
      "outputs": [
        {
          "output_type": "stream",
          "text": [
            "10000/10000 [==============================] - 1s 73us/step\n"
          ],
          "name": "stdout"
        },
        {
          "output_type": "execute_result",
          "data": {
            "text/plain": [
              "0.6711000204086304"
            ]
          },
          "metadata": {
            "tags": []
          },
          "execution_count": 17
        }
      ]
    },
    {
      "cell_type": "markdown",
      "metadata": {
        "id": "dFFYh3w7snwp",
        "colab_type": "text"
      },
      "source": [
        "Visualizing the accuracy and loss"
      ]
    },
    {
      "cell_type": "code",
      "metadata": {
        "id": "FNYdcSi8fpVi",
        "colab_type": "code",
        "colab": {
          "base_uri": "https://localhost:8080/",
          "height": 295
        },
        "outputId": "fce8ed9e-91b5-4030-96e1-24c7086bbd81"
      },
      "source": [
        "plt.plot(history.history['accuracy'])\n",
        "plt.plot(history.history['val_accuracy'])\n",
        "plt.title('Model Accuracy')\n",
        "plt.ylabel('Accuracy')\n",
        "plt.xlabel('Epochs')\n",
        "plt.legend(['Train', 'Val'], loc='upper left')\n",
        "plt.show()"
      ],
      "execution_count": 18,
      "outputs": [
        {
          "output_type": "display_data",
          "data": {
            "image/png": "[encoded data removed]",
            "text/plain": [
              "<Figure size 432x288 with 1 Axes>"
            ]
          },
          "metadata": {
            "tags": [],
            "needs_background": "light"
          }
        }
      ]
    },
    {
      "cell_type": "code",
      "metadata": {
        "id": "LLe4nh8kiK3T",
        "colab_type": "code",
        "colab": {
          "base_uri": "https://localhost:8080/",
          "height": 295
        },
        "outputId": "d2de3f6d-9379-4289-e18d-65249064e383"
      },
      "source": [
        "plt.plot(history.history['loss'])\n",
        "plt.plot(history.history['val_loss'])\n",
        "plt.title('Model Loss')\n",
        "plt.ylabel('Loss')\n",
        "plt.xlabel('Epochs')\n",
        "plt.legend(['Train', 'Val'], loc='upper right')\n",
        "plt.show()"
      ],
      "execution_count": 19,
      "outputs": [
        {
          "output_type": "display_data",
          "data": {
            "image/png": "[encoded data removed]",
            "text/plain": [
              "<Figure size 432x288 with 1 Axes>"
            ]
          },
          "metadata": {
            "tags": [],
            "needs_background": "light"
          }
        }
      ]
    },
    {
      "cell_type": "markdown",
      "metadata": {
        "id": "WO8GFD5dsxMs",
        "colab_type": "text"
      },
      "source": [
        "# Second Model"
      ]
    },
    {
      "cell_type": "markdown",
      "metadata": {
        "id": "ehUV421ps1Vt",
        "colab_type": "text"
      },
      "source": [
        "new model made with vgg blocks of 2 layers each(32, 64, 128 neurons), also implementing dropout and a fully connected layer with 128 units this time"
      ]
    },
    {
      "cell_type": "code",
      "metadata": {
        "id": "TQ3Xivztiflv",
        "colab_type": "code",
        "colab": {}
      },
      "source": [
        "from keras.models import Sequential\n",
        "from keras.layers import Dense, Flatten, Conv2D, MaxPooling2D, Dropout\n",
        "from keras.optimizers import SGD\n",
        "\n",
        "model = Sequential()\n",
        "model.add(Conv2D(32, (3, 3), activation='relu', kernel_initializer='he_uniform', padding='same', input_shape=(32, 32, 3)))\n",
        "model.add(Conv2D(32, (3, 3), activation='relu', kernel_initializer='he_uniform', padding='same'))\n",
        "model.add(MaxPooling2D((2, 2)))\n",
        "model.add(Dropout(0.2))\n",
        "model.add(Conv2D(64, (3, 3), activation='relu', kernel_initializer='he_uniform', padding='same'))\n",
        "model.add(Conv2D(64, (3, 3), activation='relu', kernel_initializer='he_uniform', padding='same'))\n",
        "model.add(MaxPooling2D((2, 2)))\n",
        "model.add(Dropout(0.2))\n",
        "model.add(Conv2D(128, (3, 3), activation='relu', kernel_initializer='he_uniform', padding='same'))\n",
        "model.add(Conv2D(128, (3, 3), activation='relu', kernel_initializer='he_uniform', padding='same'))\n",
        "model.add(MaxPooling2D((2, 2)))\n",
        "model.add(Dropout(0.2))\n",
        "model.add(Flatten())\n",
        "model.add(Dense(128, activation='relu', kernel_initializer='he_uniform'))\n",
        "model.add(Dropout(0.2))\n",
        "model.add(Dense(10, activation='softmax'))\n",
        "\n"
      ],
      "execution_count": 0,
      "outputs": []
    },
    {
      "cell_type": "code",
      "metadata": {
        "id": "DR2YNZfwkQLP",
        "colab_type": "code",
        "colab": {}
      },
      "source": [
        "#Compiling with custom simple optimizer\n",
        "optimizer = SGD(lr=0.001, momentum=0.9)\n",
        "model.compile(loss='categorical_crossentropy',\n",
        "              optimizer=optimizer,\n",
        "              metrics=['accuracy'])"
      ],
      "execution_count": 0,
      "outputs": []
    },
    {
      "cell_type": "code",
      "metadata": {
        "id": "Y4BzhELbkRE5",
        "colab_type": "code",
        "colab": {
          "base_uri": "https://localhost:8080/",
          "height": 1000
        },
        "outputId": "4812f15f-d61f-478d-be54-d7e488f86300"
      },
      "source": [
        "#training the model\n",
        "history = model.fit(x_train, y_train_one_hot,\n",
        "                    batch_size=64, epochs=100,\n",
        "                    validation_split=0.3)"
      ],
      "execution_count": 22,
      "outputs": [
        {
          "output_type": "stream",
          "text": [
            "Train on 35000 samples, validate on 15000 samples\n",
            "Epoch 1/100\n",
            "35000/35000 [==============================] - 5s 154us/step - loss: 2.0879 - accuracy: 0.2236 - val_loss: 1.9171 - val_accuracy: 0.3232\n",
            "Epoch 2/100\n",
            "35000/35000 [==============================] - 5s 139us/step - loss: 1.7616 - accuracy: 0.3477 - val_loss: 1.6304 - val_accuracy: 0.4105\n",
            "Epoch 3/100\n",
            "35000/35000 [==============================] - 5s 139us/step - loss: 1.6130 - accuracy: 0.4021 - val_loss: 1.4889 - val_accuracy: 0.4513\n",
            "Epoch 4/100\n",
            "35000/35000 [==============================] - 5s 139us/step - loss: 1.5236 - accuracy: 0.4407 - val_loss: 1.4324 - val_accuracy: 0.4799\n",
            "Epoch 5/100\n",
            "35000/35000 [==============================] - 5s 139us/step - loss: 1.4417 - accuracy: 0.4707 - val_loss: 1.4159 - val_accuracy: 0.4981\n",
            "Epoch 6/100\n",
            "35000/35000 [==============================] - 5s 141us/step - loss: 1.3916 - accuracy: 0.4952 - val_loss: 1.2743 - val_accuracy: 0.5451\n",
            "Epoch 7/100\n",
            "35000/35000 [==============================] - 5s 141us/step - loss: 1.3258 - accuracy: 0.5165 - val_loss: 1.2390 - val_accuracy: 0.5554\n",
            "Epoch 8/100\n",
            "35000/35000 [==============================] - 5s 139us/step - loss: 1.2778 - accuracy: 0.5393 - val_loss: 1.2245 - val_accuracy: 0.5626\n",
            "Epoch 9/100\n",
            "35000/35000 [==============================] - 5s 139us/step - loss: 1.2308 - accuracy: 0.5583 - val_loss: 1.1453 - val_accuracy: 0.5937\n",
            "Epoch 10/100\n",
            "35000/35000 [==============================] - 5s 140us/step - loss: 1.1915 - accuracy: 0.5737 - val_loss: 1.1022 - val_accuracy: 0.6127\n",
            "Epoch 11/100\n",
            "35000/35000 [==============================] - 5s 140us/step - loss: 1.1575 - accuracy: 0.5835 - val_loss: 1.0984 - val_accuracy: 0.6181\n",
            "Epoch 12/100\n",
            "35000/35000 [==============================] - 5s 140us/step - loss: 1.1193 - accuracy: 0.5967 - val_loss: 1.0310 - val_accuracy: 0.6378\n",
            "Epoch 13/100\n",
            "35000/35000 [==============================] - 5s 140us/step - loss: 1.0961 - accuracy: 0.6072 - val_loss: 1.0260 - val_accuracy: 0.6379\n",
            "Epoch 14/100\n",
            "35000/35000 [==============================] - 5s 139us/step - loss: 1.0628 - accuracy: 0.6201 - val_loss: 0.9767 - val_accuracy: 0.6574\n",
            "Epoch 15/100\n",
            "35000/35000 [==============================] - 5s 140us/step - loss: 1.0332 - accuracy: 0.6317 - val_loss: 0.9563 - val_accuracy: 0.6629\n",
            "Epoch 16/100\n",
            "35000/35000 [==============================] - 5s 139us/step - loss: 1.0095 - accuracy: 0.6425 - val_loss: 0.9701 - val_accuracy: 0.6529\n",
            "Epoch 17/100\n",
            "35000/35000 [==============================] - 5s 139us/step - loss: 0.9874 - accuracy: 0.6479 - val_loss: 0.9188 - val_accuracy: 0.6767\n",
            "Epoch 18/100\n",
            "35000/35000 [==============================] - 5s 138us/step - loss: 0.9582 - accuracy: 0.6574 - val_loss: 0.9119 - val_accuracy: 0.6805\n",
            "Epoch 19/100\n",
            "35000/35000 [==============================] - 5s 140us/step - loss: 0.9422 - accuracy: 0.6651 - val_loss: 0.8946 - val_accuracy: 0.6837\n",
            "Epoch 20/100\n",
            "35000/35000 [==============================] - 5s 139us/step - loss: 0.9202 - accuracy: 0.6744 - val_loss: 0.8757 - val_accuracy: 0.6933\n",
            "Epoch 21/100\n",
            "35000/35000 [==============================] - 5s 139us/step - loss: 0.9004 - accuracy: 0.6807 - val_loss: 0.8887 - val_accuracy: 0.6882\n",
            "Epoch 22/100\n",
            "35000/35000 [==============================] - 5s 140us/step - loss: 0.8817 - accuracy: 0.6868 - val_loss: 0.8318 - val_accuracy: 0.7068\n",
            "Epoch 23/100\n",
            "35000/35000 [==============================] - 5s 140us/step - loss: 0.8651 - accuracy: 0.6936 - val_loss: 0.8282 - val_accuracy: 0.7085\n",
            "Epoch 24/100\n",
            "35000/35000 [==============================] - 5s 139us/step - loss: 0.8455 - accuracy: 0.6993 - val_loss: 0.8791 - val_accuracy: 0.6901\n",
            "Epoch 25/100\n",
            "35000/35000 [==============================] - 5s 139us/step - loss: 0.8318 - accuracy: 0.7049 - val_loss: 0.7922 - val_accuracy: 0.7206\n",
            "Epoch 26/100\n",
            "35000/35000 [==============================] - 5s 138us/step - loss: 0.8199 - accuracy: 0.7070 - val_loss: 0.7803 - val_accuracy: 0.7278\n",
            "Epoch 27/100\n",
            "35000/35000 [==============================] - 5s 138us/step - loss: 0.7966 - accuracy: 0.7165 - val_loss: 0.7547 - val_accuracy: 0.7361\n",
            "Epoch 28/100\n",
            "35000/35000 [==============================] - 5s 138us/step - loss: 0.7850 - accuracy: 0.7228 - val_loss: 0.8355 - val_accuracy: 0.7085\n",
            "Epoch 29/100\n",
            "35000/35000 [==============================] - 5s 137us/step - loss: 0.7687 - accuracy: 0.7265 - val_loss: 0.8091 - val_accuracy: 0.7167\n",
            "Epoch 30/100\n",
            "35000/35000 [==============================] - 5s 138us/step - loss: 0.7587 - accuracy: 0.7315 - val_loss: 0.7354 - val_accuracy: 0.7397\n",
            "Epoch 31/100\n",
            "35000/35000 [==============================] - 5s 138us/step - loss: 0.7438 - accuracy: 0.7361 - val_loss: 0.7489 - val_accuracy: 0.7395\n",
            "Epoch 32/100\n",
            "35000/35000 [==============================] - 5s 137us/step - loss: 0.7305 - accuracy: 0.7413 - val_loss: 0.7114 - val_accuracy: 0.7512\n",
            "Epoch 33/100\n",
            "35000/35000 [==============================] - 5s 137us/step - loss: 0.7211 - accuracy: 0.7466 - val_loss: 0.7321 - val_accuracy: 0.7445\n",
            "Epoch 34/100\n",
            "35000/35000 [==============================] - 5s 140us/step - loss: 0.7105 - accuracy: 0.7495 - val_loss: 0.7155 - val_accuracy: 0.7501\n",
            "Epoch 35/100\n",
            "35000/35000 [==============================] - 5s 140us/step - loss: 0.6945 - accuracy: 0.7544 - val_loss: 0.6969 - val_accuracy: 0.7562\n",
            "Epoch 36/100\n",
            "35000/35000 [==============================] - 5s 137us/step - loss: 0.6866 - accuracy: 0.7573 - val_loss: 0.6987 - val_accuracy: 0.7587\n",
            "Epoch 37/100\n",
            "35000/35000 [==============================] - 5s 138us/step - loss: 0.6810 - accuracy: 0.7562 - val_loss: 0.6942 - val_accuracy: 0.7587\n",
            "Epoch 38/100\n",
            "35000/35000 [==============================] - 5s 138us/step - loss: 0.6669 - accuracy: 0.7648 - val_loss: 0.6816 - val_accuracy: 0.7642\n",
            "Epoch 39/100\n",
            "35000/35000 [==============================] - 5s 139us/step - loss: 0.6522 - accuracy: 0.7682 - val_loss: 0.6806 - val_accuracy: 0.7624\n",
            "Epoch 40/100\n",
            "35000/35000 [==============================] - 5s 139us/step - loss: 0.6515 - accuracy: 0.7697 - val_loss: 0.6623 - val_accuracy: 0.7687\n",
            "Epoch 41/100\n",
            "35000/35000 [==============================] - 5s 138us/step - loss: 0.6378 - accuracy: 0.7733 - val_loss: 0.7013 - val_accuracy: 0.7555\n",
            "Epoch 42/100\n",
            "35000/35000 [==============================] - 5s 137us/step - loss: 0.6258 - accuracy: 0.7791 - val_loss: 0.6554 - val_accuracy: 0.7722\n",
            "Epoch 43/100\n",
            "35000/35000 [==============================] - 5s 138us/step - loss: 0.6181 - accuracy: 0.7827 - val_loss: 0.6618 - val_accuracy: 0.7712\n",
            "Epoch 44/100\n",
            "35000/35000 [==============================] - 5s 138us/step - loss: 0.6089 - accuracy: 0.7846 - val_loss: 0.6864 - val_accuracy: 0.7655\n",
            "Epoch 45/100\n",
            "35000/35000 [==============================] - 5s 138us/step - loss: 0.6073 - accuracy: 0.7864 - val_loss: 0.6865 - val_accuracy: 0.7631\n",
            "Epoch 46/100\n",
            "35000/35000 [==============================] - 5s 137us/step - loss: 0.5984 - accuracy: 0.7889 - val_loss: 0.6352 - val_accuracy: 0.7816\n",
            "Epoch 47/100\n",
            "35000/35000 [==============================] - 5s 138us/step - loss: 0.5848 - accuracy: 0.7909 - val_loss: 0.6309 - val_accuracy: 0.7840\n",
            "Epoch 48/100\n",
            "35000/35000 [==============================] - 5s 138us/step - loss: 0.5816 - accuracy: 0.7942 - val_loss: 0.6230 - val_accuracy: 0.7843\n",
            "Epoch 49/100\n",
            "35000/35000 [==============================] - 5s 140us/step - loss: 0.5686 - accuracy: 0.7983 - val_loss: 0.6386 - val_accuracy: 0.7817\n",
            "Epoch 50/100\n",
            "35000/35000 [==============================] - 5s 144us/step - loss: 0.5613 - accuracy: 0.7993 - val_loss: 0.6343 - val_accuracy: 0.7835\n",
            "Epoch 51/100\n",
            "35000/35000 [==============================] - 5s 143us/step - loss: 0.5519 - accuracy: 0.8021 - val_loss: 0.6302 - val_accuracy: 0.7854\n",
            "Epoch 52/100\n",
            "35000/35000 [==============================] - 5s 137us/step - loss: 0.5447 - accuracy: 0.8054 - val_loss: 0.6297 - val_accuracy: 0.7841\n",
            "Epoch 53/100\n",
            "35000/35000 [==============================] - 5s 137us/step - loss: 0.5320 - accuracy: 0.8098 - val_loss: 0.6160 - val_accuracy: 0.7921\n",
            "Epoch 54/100\n",
            "35000/35000 [==============================] - 5s 136us/step - loss: 0.5314 - accuracy: 0.8106 - val_loss: 0.6507 - val_accuracy: 0.7811\n",
            "Epoch 55/100\n",
            "35000/35000 [==============================] - 5s 138us/step - loss: 0.5208 - accuracy: 0.8146 - val_loss: 0.6201 - val_accuracy: 0.7899\n",
            "Epoch 56/100\n",
            "35000/35000 [==============================] - 5s 139us/step - loss: 0.5174 - accuracy: 0.8146 - val_loss: 0.6067 - val_accuracy: 0.7914\n",
            "Epoch 57/100\n",
            "35000/35000 [==============================] - 5s 139us/step - loss: 0.5082 - accuracy: 0.8196 - val_loss: 0.6133 - val_accuracy: 0.7913\n",
            "Epoch 58/100\n",
            "35000/35000 [==============================] - 5s 137us/step - loss: 0.4983 - accuracy: 0.8224 - val_loss: 0.6114 - val_accuracy: 0.7934\n",
            "Epoch 59/100\n",
            "35000/35000 [==============================] - 5s 137us/step - loss: 0.4936 - accuracy: 0.8235 - val_loss: 0.6024 - val_accuracy: 0.7955\n",
            "Epoch 60/100\n",
            "35000/35000 [==============================] - 5s 137us/step - loss: 0.4881 - accuracy: 0.8241 - val_loss: 0.6057 - val_accuracy: 0.7927\n",
            "Epoch 61/100\n",
            "35000/35000 [==============================] - 5s 137us/step - loss: 0.4810 - accuracy: 0.8286 - val_loss: 0.5923 - val_accuracy: 0.8002\n",
            "Epoch 62/100\n",
            "35000/35000 [==============================] - 5s 137us/step - loss: 0.4748 - accuracy: 0.8293 - val_loss: 0.6027 - val_accuracy: 0.7995\n",
            "Epoch 63/100\n",
            "35000/35000 [==============================] - 5s 137us/step - loss: 0.4642 - accuracy: 0.8326 - val_loss: 0.6220 - val_accuracy: 0.7937\n",
            "Epoch 64/100\n",
            "35000/35000 [==============================] - 5s 137us/step - loss: 0.4555 - accuracy: 0.8371 - val_loss: 0.6341 - val_accuracy: 0.7883\n",
            "Epoch 65/100\n",
            "35000/35000 [==============================] - 5s 136us/step - loss: 0.4543 - accuracy: 0.8373 - val_loss: 0.5997 - val_accuracy: 0.7991\n",
            "Epoch 66/100\n",
            "35000/35000 [==============================] - 5s 137us/step - loss: 0.4439 - accuracy: 0.8425 - val_loss: 0.6076 - val_accuracy: 0.7987\n",
            "Epoch 67/100\n",
            "35000/35000 [==============================] - 5s 136us/step - loss: 0.4427 - accuracy: 0.8411 - val_loss: 0.6077 - val_accuracy: 0.7989\n",
            "Epoch 68/100\n",
            "35000/35000 [==============================] - 5s 136us/step - loss: 0.4337 - accuracy: 0.8455 - val_loss: 0.6027 - val_accuracy: 0.8017\n",
            "Epoch 69/100\n",
            "35000/35000 [==============================] - 5s 136us/step - loss: 0.4283 - accuracy: 0.8478 - val_loss: 0.6094 - val_accuracy: 0.7996\n",
            "Epoch 70/100\n",
            "35000/35000 [==============================] - 5s 136us/step - loss: 0.4213 - accuracy: 0.8480 - val_loss: 0.5927 - val_accuracy: 0.8033\n",
            "Epoch 71/100\n",
            "35000/35000 [==============================] - 5s 136us/step - loss: 0.4157 - accuracy: 0.8518 - val_loss: 0.6020 - val_accuracy: 0.8019\n",
            "Epoch 72/100\n",
            "35000/35000 [==============================] - 5s 138us/step - loss: 0.4125 - accuracy: 0.8514 - val_loss: 0.5895 - val_accuracy: 0.8063\n",
            "Epoch 73/100\n",
            "35000/35000 [==============================] - 5s 139us/step - loss: 0.4152 - accuracy: 0.8525 - val_loss: 0.5873 - val_accuracy: 0.8073\n",
            "Epoch 74/100\n",
            "35000/35000 [==============================] - 5s 137us/step - loss: 0.3955 - accuracy: 0.8565 - val_loss: 0.6173 - val_accuracy: 0.7970\n",
            "Epoch 75/100\n",
            "35000/35000 [==============================] - 5s 137us/step - loss: 0.4020 - accuracy: 0.8542 - val_loss: 0.5961 - val_accuracy: 0.8028\n",
            "Epoch 76/100\n",
            "35000/35000 [==============================] - 5s 137us/step - loss: 0.3853 - accuracy: 0.8630 - val_loss: 0.6029 - val_accuracy: 0.8037\n",
            "Epoch 77/100\n",
            "35000/35000 [==============================] - 5s 137us/step - loss: 0.3830 - accuracy: 0.8634 - val_loss: 0.5777 - val_accuracy: 0.8116\n",
            "Epoch 78/100\n",
            "35000/35000 [==============================] - 5s 136us/step - loss: 0.3819 - accuracy: 0.8631 - val_loss: 0.6065 - val_accuracy: 0.8043\n",
            "Epoch 79/100\n",
            "35000/35000 [==============================] - 5s 136us/step - loss: 0.3736 - accuracy: 0.8657 - val_loss: 0.6149 - val_accuracy: 0.8017\n",
            "Epoch 80/100\n",
            "35000/35000 [==============================] - 5s 137us/step - loss: 0.3664 - accuracy: 0.8659 - val_loss: 0.6047 - val_accuracy: 0.8079\n",
            "Epoch 81/100\n",
            "35000/35000 [==============================] - 5s 136us/step - loss: 0.3639 - accuracy: 0.8683 - val_loss: 0.5992 - val_accuracy: 0.8067\n",
            "Epoch 82/100\n",
            "35000/35000 [==============================] - 5s 137us/step - loss: 0.3556 - accuracy: 0.8705 - val_loss: 0.5910 - val_accuracy: 0.8099\n",
            "Epoch 83/100\n",
            "35000/35000 [==============================] - 5s 137us/step - loss: 0.3521 - accuracy: 0.8720 - val_loss: 0.6157 - val_accuracy: 0.8056\n",
            "Epoch 84/100\n",
            "35000/35000 [==============================] - 5s 136us/step - loss: 0.3438 - accuracy: 0.8770 - val_loss: 0.6042 - val_accuracy: 0.8125\n",
            "Epoch 85/100\n",
            "35000/35000 [==============================] - 5s 137us/step - loss: 0.3422 - accuracy: 0.8735 - val_loss: 0.6001 - val_accuracy: 0.8123\n",
            "Epoch 86/100\n",
            "35000/35000 [==============================] - 5s 136us/step - loss: 0.3431 - accuracy: 0.8754 - val_loss: 0.6021 - val_accuracy: 0.8067\n",
            "Epoch 87/100\n",
            "35000/35000 [==============================] - 5s 137us/step - loss: 0.3344 - accuracy: 0.8783 - val_loss: 0.6049 - val_accuracy: 0.8135\n",
            "Epoch 88/100\n",
            "35000/35000 [==============================] - 5s 136us/step - loss: 0.3307 - accuracy: 0.8791 - val_loss: 0.6061 - val_accuracy: 0.8079\n",
            "Epoch 89/100\n",
            "35000/35000 [==============================] - 5s 138us/step - loss: 0.3230 - accuracy: 0.8830 - val_loss: 0.6095 - val_accuracy: 0.8068\n",
            "Epoch 90/100\n",
            "35000/35000 [==============================] - 5s 138us/step - loss: 0.3231 - accuracy: 0.8818 - val_loss: 0.6186 - val_accuracy: 0.8109\n",
            "Epoch 91/100\n",
            "35000/35000 [==============================] - 5s 137us/step - loss: 0.3148 - accuracy: 0.8874 - val_loss: 0.6232 - val_accuracy: 0.8071\n",
            "Epoch 92/100\n",
            "35000/35000 [==============================] - 5s 136us/step - loss: 0.3124 - accuracy: 0.8863 - val_loss: 0.6070 - val_accuracy: 0.8130\n",
            "Epoch 93/100\n",
            "35000/35000 [==============================] - 5s 137us/step - loss: 0.3109 - accuracy: 0.8886 - val_loss: 0.6160 - val_accuracy: 0.8067\n",
            "Epoch 94/100\n",
            "35000/35000 [==============================] - 5s 136us/step - loss: 0.3032 - accuracy: 0.8901 - val_loss: 0.6140 - val_accuracy: 0.8122\n",
            "Epoch 95/100\n",
            "35000/35000 [==============================] - 5s 136us/step - loss: 0.3038 - accuracy: 0.8903 - val_loss: 0.6280 - val_accuracy: 0.8096\n",
            "Epoch 96/100\n",
            "35000/35000 [==============================] - 5s 136us/step - loss: 0.2936 - accuracy: 0.8935 - val_loss: 0.6200 - val_accuracy: 0.8115\n",
            "Epoch 97/100\n",
            "35000/35000 [==============================] - 5s 137us/step - loss: 0.2951 - accuracy: 0.8916 - val_loss: 0.6167 - val_accuracy: 0.8107\n",
            "Epoch 98/100\n",
            "35000/35000 [==============================] - 5s 140us/step - loss: 0.2831 - accuracy: 0.8973 - val_loss: 0.6336 - val_accuracy: 0.8097\n",
            "Epoch 99/100\n",
            "35000/35000 [==============================] - 5s 136us/step - loss: 0.2860 - accuracy: 0.8949 - val_loss: 0.6303 - val_accuracy: 0.8082\n",
            "Epoch 100/100\n",
            "35000/35000 [==============================] - 5s 136us/step - loss: 0.2796 - accuracy: 0.8987 - val_loss: 0.6371 - val_accuracy: 0.8087\n"
          ],
          "name": "stdout"
        }
      ]
    },
    {
      "cell_type": "code",
      "metadata": {
        "id": "KSvoO8Otkrot",
        "colab_type": "code",
        "colab": {
          "base_uri": "https://localhost:8080/",
          "height": 51
        },
        "outputId": "59c3806a-e102-453a-eaef-0bc808a33238"
      },
      "source": [
        "#79% accuracy(12% increase)\n",
        "model.evaluate(x_test,y_test_one_hot)[1]"
      ],
      "execution_count": 23,
      "outputs": [
        {
          "output_type": "stream",
          "text": [
            "10000/10000 [==============================] - 1s 98us/step\n"
          ],
          "name": "stdout"
        },
        {
          "output_type": "execute_result",
          "data": {
            "text/plain": [
              "0.7997000217437744"
            ]
          },
          "metadata": {
            "tags": []
          },
          "execution_count": 23
        }
      ]
    },
    {
      "cell_type": "markdown",
      "metadata": {
        "id": "anOaRAGOtUvv",
        "colab_type": "text"
      },
      "source": [
        "Visualizing the accuracy and loss data"
      ]
    },
    {
      "cell_type": "code",
      "metadata": {
        "id": "grEbvORcq-tj",
        "colab_type": "code",
        "colab": {
          "base_uri": "https://localhost:8080/",
          "height": 295
        },
        "outputId": "acc60c05-0f5a-4527-a6da-d15a35c8ad1b"
      },
      "source": [
        "plt.plot(history.history['accuracy'])\n",
        "plt.plot(history.history['val_accuracy'])\n",
        "plt.title('Model Accuracy')\n",
        "plt.ylabel('Accuracy')\n",
        "plt.xlabel('Epochs')\n",
        "plt.legend(['Train', 'Val'], loc='upper left')\n",
        "plt.show()"
      ],
      "execution_count": 24,
      "outputs": [
        {
          "output_type": "display_data",
          "data": {
            "image/png": "[encoded data removed]",
            "text/plain": [
              "<Figure size 432x288 with 1 Axes>"
            ]
          },
          "metadata": {
            "tags": [],
            "needs_background": "light"
          }
        }
      ]
    },
    {
      "cell_type": "code",
      "metadata": {
        "id": "tdyPJGRxrFW6",
        "colab_type": "code",
        "colab": {
          "base_uri": "https://localhost:8080/",
          "height": 295
        },
        "outputId": "c203b679-7ba3-49f2-904f-13d346939f5b"
      },
      "source": [
        "plt.plot(history.history['loss'])\n",
        "plt.plot(history.history['val_loss'])\n",
        "plt.title('Model Loss')\n",
        "plt.ylabel('Loss')\n",
        "plt.xlabel('Epochs')\n",
        "plt.legend(['Train', 'Val'], loc='upper right')\n",
        "plt.show()"
      ],
      "execution_count": 25,
      "outputs": [
        {
          "output_type": "display_data",
          "data": {
            "image/png": "[encoded data removed]",
            "text/plain": [
              "<Figure size 432x288 with 1 Axes>"
            ]
          },
          "metadata": {
            "tags": [],
            "needs_background": "light"
          }
        }
      ]
    },
    {
      "cell_type": "markdown",
      "metadata": {
        "id": "BZ7L6LZYtZQ0",
        "colab_type": "text"
      },
      "source": [
        "This model could be further improved with data augmentation and other possible strategies"
      ]
    }
  ]
}